{
 "cells": [
  {
   "cell_type": "code",
   "execution_count": 68,
   "metadata": {},
   "outputs": [],
   "source": [
    "import pandas as pd\n",
    "import numpy as np\n",
    "from numpy import nan\n",
    "import seaborn as sns\n",
    "import matplotlib.pyplot as plt\n",
    "%matplotlib inline\n",
    "from sklearn.model_selection import train_test_split\n",
    "\n",
    "from sklearn.linear_model import LogisticRegression\n",
    "from sklearn.metrics import accuracy_score\n",
    "\n",
    "import warnings\n",
    "warnings.filterwarnings(\"ignore\")"
   ]
  },
  {
   "cell_type": "code",
   "execution_count": 69,
   "metadata": {},
   "outputs": [
    {
     "data": {
      "text/html": [
       "<div>\n",
       "<style scoped>\n",
       "    .dataframe tbody tr th:only-of-type {\n",
       "        vertical-align: middle;\n",
       "    }\n",
       "\n",
       "    .dataframe tbody tr th {\n",
       "        vertical-align: top;\n",
       "    }\n",
       "\n",
       "    .dataframe thead th {\n",
       "        text-align: right;\n",
       "    }\n",
       "</style>\n",
       "<table border=\"1\" class=\"dataframe\">\n",
       "  <thead>\n",
       "    <tr style=\"text-align: right;\">\n",
       "      <th></th>\n",
       "      <th>Loanapp_ID</th>\n",
       "      <th>Sex</th>\n",
       "      <th>Marital_Status</th>\n",
       "      <th>first_name</th>\n",
       "      <th>last_name</th>\n",
       "      <th>email</th>\n",
       "      <th>address</th>\n",
       "      <th>Dependents</th>\n",
       "      <th>Qual_var</th>\n",
       "      <th>SE</th>\n",
       "      <th>App_Income_1</th>\n",
       "      <th>App_Income_2</th>\n",
       "      <th>CPL_Amount</th>\n",
       "      <th>CPL_Term</th>\n",
       "      <th>Credit_His</th>\n",
       "      <th>Prop_Area</th>\n",
       "      <th>INT_ID</th>\n",
       "      <th>Prev_ID</th>\n",
       "      <th>AGT_ID</th>\n",
       "      <th>CPL_Status</th>\n",
       "    </tr>\n",
       "  </thead>\n",
       "  <tbody>\n",
       "    <tr>\n",
       "      <th>0</th>\n",
       "      <td>CPL001002</td>\n",
       "      <td>M</td>\n",
       "      <td>N</td>\n",
       "      <td>Austin</td>\n",
       "      <td>Pennycook</td>\n",
       "      <td>apennycook1@mac.com</td>\n",
       "      <td>007 Miller Road</td>\n",
       "      <td>0</td>\n",
       "      <td>Grad</td>\n",
       "      <td>N</td>\n",
       "      <td>7018.8</td>\n",
       "      <td>0.0</td>\n",
       "      <td>NaN</td>\n",
       "      <td>360.0</td>\n",
       "      <td>1.0</td>\n",
       "      <td>Urban</td>\n",
       "      <td>9694176212</td>\n",
       "      <td>92-247-0058</td>\n",
       "      <td>Mozilla/5.0 (Windows; U; Windows NT 5.1; zh-TW...</td>\n",
       "      <td>Y</td>\n",
       "    </tr>\n",
       "    <tr>\n",
       "      <th>1</th>\n",
       "      <td>CPL001003</td>\n",
       "      <td>M</td>\n",
       "      <td>Y</td>\n",
       "      <td>Mareah</td>\n",
       "      <td>Tomanek</td>\n",
       "      <td>mtomanek2@bloomberg.com</td>\n",
       "      <td>145 Charing Cross Junction</td>\n",
       "      <td>1</td>\n",
       "      <td>Grad</td>\n",
       "      <td>N</td>\n",
       "      <td>5499.6</td>\n",
       "      <td>1809.6</td>\n",
       "      <td>153.6</td>\n",
       "      <td>360.0</td>\n",
       "      <td>1.0</td>\n",
       "      <td>Rural</td>\n",
       "      <td>152387684</td>\n",
       "      <td>36-236-3028</td>\n",
       "      <td>Mozilla/5.0 (Windows NT 5.1; rv:21.0) Gecko/20...</td>\n",
       "      <td>N</td>\n",
       "    </tr>\n",
       "    <tr>\n",
       "      <th>2</th>\n",
       "      <td>CPL001005</td>\n",
       "      <td>M</td>\n",
       "      <td>Y</td>\n",
       "      <td>Myrna</td>\n",
       "      <td>Rosenthaler</td>\n",
       "      <td>mrosenthaler3@dmoz.org</td>\n",
       "      <td>268 Algoma Hill</td>\n",
       "      <td>0</td>\n",
       "      <td>Grad</td>\n",
       "      <td>Y</td>\n",
       "      <td>3600.0</td>\n",
       "      <td>0.0</td>\n",
       "      <td>79.2</td>\n",
       "      <td>360.0</td>\n",
       "      <td>1.0</td>\n",
       "      <td>Urban</td>\n",
       "      <td>6510396556</td>\n",
       "      <td>34-339-0917</td>\n",
       "      <td>Mozilla/5.0 (Windows; U; Windows NT 6.1; cs-CZ...</td>\n",
       "      <td>Y</td>\n",
       "    </tr>\n",
       "    <tr>\n",
       "      <th>3</th>\n",
       "      <td>CPL001006</td>\n",
       "      <td>M</td>\n",
       "      <td>Y</td>\n",
       "      <td>Danyette</td>\n",
       "      <td>Stempe</td>\n",
       "      <td>dstempe4@tumblr.com</td>\n",
       "      <td>571 Stone Corner Park</td>\n",
       "      <td>0</td>\n",
       "      <td>Non Grad</td>\n",
       "      <td>N</td>\n",
       "      <td>3099.6</td>\n",
       "      <td>2829.6</td>\n",
       "      <td>144.0</td>\n",
       "      <td>360.0</td>\n",
       "      <td>1.0</td>\n",
       "      <td>Urban</td>\n",
       "      <td>7141853006</td>\n",
       "      <td>94-098-8902</td>\n",
       "      <td>Mozilla/5.0 (iPhone; U; CPU iPhone OS 4_2_1 li...</td>\n",
       "      <td>Y</td>\n",
       "    </tr>\n",
       "    <tr>\n",
       "      <th>4</th>\n",
       "      <td>CPL001008</td>\n",
       "      <td>M</td>\n",
       "      <td>N</td>\n",
       "      <td>Patten</td>\n",
       "      <td>McCathy</td>\n",
       "      <td>pmccathy5@ted.com</td>\n",
       "      <td>118 Moulton Drive</td>\n",
       "      <td>0</td>\n",
       "      <td>Grad</td>\n",
       "      <td>N</td>\n",
       "      <td>7200.0</td>\n",
       "      <td>0.0</td>\n",
       "      <td>169.2</td>\n",
       "      <td>360.0</td>\n",
       "      <td>1.0</td>\n",
       "      <td>Urban</td>\n",
       "      <td>23293411</td>\n",
       "      <td>38-247-1410</td>\n",
       "      <td>Mozilla/5.0 (Windows NT 6.0; WOW64) AppleWebKi...</td>\n",
       "      <td>Y</td>\n",
       "    </tr>\n",
       "  </tbody>\n",
       "</table>\n",
       "</div>"
      ],
      "text/plain": [
       "  Loanapp_ID Sex Marital_Status first_name    last_name  \\\n",
       "0  CPL001002   M              N     Austin    Pennycook   \n",
       "1  CPL001003   M              Y     Mareah      Tomanek   \n",
       "2  CPL001005   M              Y      Myrna  Rosenthaler   \n",
       "3  CPL001006   M              Y   Danyette       Stempe   \n",
       "4  CPL001008   M              N     Patten      McCathy   \n",
       "\n",
       "                     email                     address Dependents  Qual_var  \\\n",
       "0      apennycook1@mac.com             007 Miller Road          0      Grad   \n",
       "1  mtomanek2@bloomberg.com  145 Charing Cross Junction          1      Grad   \n",
       "2   mrosenthaler3@dmoz.org             268 Algoma Hill          0      Grad   \n",
       "3      dstempe4@tumblr.com       571 Stone Corner Park          0  Non Grad   \n",
       "4        pmccathy5@ted.com           118 Moulton Drive          0      Grad   \n",
       "\n",
       "  SE  App_Income_1  App_Income_2  CPL_Amount  CPL_Term  Credit_His Prop_Area  \\\n",
       "0  N        7018.8           0.0         NaN     360.0         1.0     Urban   \n",
       "1  N        5499.6        1809.6       153.6     360.0         1.0     Rural   \n",
       "2  Y        3600.0           0.0        79.2     360.0         1.0     Urban   \n",
       "3  N        3099.6        2829.6       144.0     360.0         1.0     Urban   \n",
       "4  N        7200.0           0.0       169.2     360.0         1.0     Urban   \n",
       "\n",
       "       INT_ID      Prev_ID                                             AGT_ID  \\\n",
       "0  9694176212  92-247-0058  Mozilla/5.0 (Windows; U; Windows NT 5.1; zh-TW...   \n",
       "1   152387684  36-236-3028  Mozilla/5.0 (Windows NT 5.1; rv:21.0) Gecko/20...   \n",
       "2  6510396556  34-339-0917  Mozilla/5.0 (Windows; U; Windows NT 6.1; cs-CZ...   \n",
       "3  7141853006  94-098-8902  Mozilla/5.0 (iPhone; U; CPU iPhone OS 4_2_1 li...   \n",
       "4    23293411  38-247-1410  Mozilla/5.0 (Windows NT 6.0; WOW64) AppleWebKi...   \n",
       "\n",
       "  CPL_Status  \n",
       "0          Y  \n",
       "1          N  \n",
       "2          Y  \n",
       "3          Y  \n",
       "4          Y  "
      ]
     },
     "execution_count": 69,
     "metadata": {},
     "output_type": "execute_result"
    }
   ],
   "source": [
    "dataset=pd.read_csv(r'C:\\Project 3\\project4.csv')\n",
    "dataset.head()"
   ]
  },
  {
   "cell_type": "code",
   "execution_count": 70,
   "metadata": {},
   "outputs": [],
   "source": [
    "dataset_original=dataset.copy()"
   ]
  },
  {
   "cell_type": "code",
   "execution_count": 71,
   "metadata": {},
   "outputs": [],
   "source": [
    "#dataset.columns\n",
    "#Index(['Loanapp_ID', 'Sex', 'Marital_Status', 'first_name', 'last_name', 'email', 'address', 'Dependents', 'Qual_var', 'SE', 'App_Income_1', 'App_Income_2', 'CPL_Amount', 'CPL_Term', 'Credit_His', 'Prop_Area', 'INT_ID', 'Prev_ID', 'AGT_ID'], dtype='object')"
   ]
  },
  {
   "cell_type": "code",
   "execution_count": 72,
   "metadata": {},
   "outputs": [
    {
     "data": {
      "text/plain": [
       "Loanapp_ID         object\n",
       "Sex                object\n",
       "Marital_Status     object\n",
       "first_name         object\n",
       "last_name          object\n",
       "email              object\n",
       "address            object\n",
       "Dependents         object\n",
       "Qual_var           object\n",
       "SE                 object\n",
       "App_Income_1      float64\n",
       "App_Income_2      float64\n",
       "CPL_Amount        float64\n",
       "CPL_Term          float64\n",
       "Credit_His        float64\n",
       "Prop_Area          object\n",
       "INT_ID              int64\n",
       "Prev_ID            object\n",
       "AGT_ID             object\n",
       "CPL_Status         object\n",
       "dtype: object"
      ]
     },
     "execution_count": 72,
     "metadata": {},
     "output_type": "execute_result"
    }
   ],
   "source": [
    "dataset.dtypes"
   ]
  },
  {
   "cell_type": "code",
   "execution_count": 73,
   "metadata": {},
   "outputs": [
    {
     "data": {
      "text/plain": [
       "(614, 20)"
      ]
     },
     "execution_count": 73,
     "metadata": {},
     "output_type": "execute_result"
    }
   ],
   "source": [
    "dataset.shape"
   ]
  },
  {
   "cell_type": "code",
   "execution_count": 74,
   "metadata": {},
   "outputs": [
    {
     "name": "stdout",
     "output_type": "stream",
     "text": [
      "Loanapp_ID         0\n",
      "Sex               13\n",
      "Marital_Status     3\n",
      "first_name         0\n",
      "last_name          0\n",
      "email              0\n",
      "address            0\n",
      "Dependents        15\n",
      "Qual_var           0\n",
      "SE                32\n",
      "App_Income_1       0\n",
      "App_Income_2       0\n",
      "CPL_Amount         2\n",
      "CPL_Term          14\n",
      "Credit_His        50\n",
      "Prop_Area          0\n",
      "INT_ID             0\n",
      "Prev_ID            0\n",
      "AGT_ID             0\n",
      "CPL_Status         0\n",
      "dtype: int64\n"
     ]
    }
   ],
   "source": [
    "print(dataset.isnull().sum())"
   ]
  },
  {
   "cell_type": "code",
   "execution_count": 75,
   "metadata": {},
   "outputs": [
    {
     "name": "stdout",
     "output_type": "stream",
     "text": [
      "M    489\n",
      "F    112\n",
      "Name: Sex, dtype: int64\n",
      "M    502\n",
      "F    112\n",
      "Name: Sex, dtype: int64\n"
     ]
    }
   ],
   "source": [
    "print(dataset['Sex'].value_counts())\n",
    "dataset['Sex'].fillna('M',inplace=True)\n",
    "print(dataset['Sex'].value_counts())"
   ]
  },
  {
   "cell_type": "code",
   "execution_count": 76,
   "metadata": {},
   "outputs": [],
   "source": [
    "#X= dataset['Marital_Status'].value_counts()\n",
    "#if X[0]>X[1]:\n",
    "    #dataset['Marital_Status'].fillna('X[0]',inplace=True)\n",
    "#else:\n",
    "   # dataset['Marital_Status'].fillna('X[1]',inplace=True)\n",
    "#print(dataset['Marital_Status'].value_counts())\n"
   ]
  },
  {
   "cell_type": "code",
   "execution_count": 77,
   "metadata": {},
   "outputs": [],
   "source": [
    "#dataset['Sex'].fillna('Y',inplace=True)\n",
    "#print(dataset['Marital_Status'].value_counts())"
   ]
  },
  {
   "cell_type": "code",
   "execution_count": 78,
   "metadata": {},
   "outputs": [
    {
     "name": "stdout",
     "output_type": "stream",
     "text": [
      "Y    398\n",
      "N    213\n",
      "Name: Marital_Status, dtype: int64\n",
      "Y    401\n",
      "N    213\n",
      "Name: Marital_Status, dtype: int64\n"
     ]
    }
   ],
   "source": [
    "print(dataset['Marital_Status'].value_counts())\n",
    "dataset['Marital_Status'].fillna('Y',inplace=True)\n",
    "print(dataset['Marital_Status'].value_counts())"
   ]
  },
  {
   "cell_type": "code",
   "execution_count": 79,
   "metadata": {},
   "outputs": [
    {
     "name": "stdout",
     "output_type": "stream",
     "text": [
      "0     345\n",
      "1     102\n",
      "2     101\n",
      "3+     51\n",
      "Name: Dependents, dtype: int64\n",
      "0     360\n",
      "1     102\n",
      "2     101\n",
      "3+     51\n",
      "Name: Dependents, dtype: int64\n"
     ]
    }
   ],
   "source": [
    "print(dataset['Dependents'].value_counts())\n",
    "dataset['Dependents'].fillna('0',inplace=True)\n",
    "print(dataset['Dependents'].value_counts())"
   ]
  },
  {
   "cell_type": "code",
   "execution_count": 80,
   "metadata": {},
   "outputs": [
    {
     "name": "stdout",
     "output_type": "stream",
     "text": [
      "N    500\n",
      "Y     82\n",
      "Name: SE, dtype: int64\n",
      "N    532\n",
      "Y     82\n",
      "Name: SE, dtype: int64\n"
     ]
    }
   ],
   "source": [
    "print(dataset['SE'].value_counts())\n",
    "dataset['SE'].fillna('N',inplace=True)\n",
    "print(dataset['SE'].value_counts())"
   ]
  },
  {
   "cell_type": "code",
   "execution_count": 81,
   "metadata": {},
   "outputs": [
    {
     "name": "stdout",
     "output_type": "stream",
     "text": [
      "144.0    20\n",
      "132.0    17\n",
      "120.0    15\n",
      "192.0    13\n",
      "224.4    12\n",
      "         ..\n",
      "56.4      1\n",
      "588.0     1\n",
      "196.8     1\n",
      "780.0     1\n",
      "273.6     1\n",
      "Name: CPL_Amount, Length: 219, dtype: int64\n",
      "144.0    20\n",
      "132.0    17\n",
      "120.0    15\n",
      "192.0    13\n",
      "153.6    13\n",
      "         ..\n",
      "56.4      1\n",
      "588.0     1\n",
      "196.8     1\n",
      "780.0     1\n",
      "273.6     1\n",
      "Name: CPL_Amount, Length: 219, dtype: int64\n"
     ]
    }
   ],
   "source": [
    "print(dataset['CPL_Amount'].value_counts())\n",
    "median = dataset['CPL_Amount'].median()\n",
    "dataset['CPL_Amount'].fillna(median, inplace=True)\n",
    "print(dataset['CPL_Amount'].value_counts())"
   ]
  },
  {
   "cell_type": "code",
   "execution_count": 82,
   "metadata": {},
   "outputs": [
    {
     "name": "stdout",
     "output_type": "stream",
     "text": [
      "360.0    512\n",
      "180.0     44\n",
      "480.0     15\n",
      "300.0     13\n",
      "84.0       4\n",
      "240.0      4\n",
      "120.0      3\n",
      "36.0       2\n",
      "60.0       2\n",
      "12.0       1\n",
      "Name: CPL_Term, dtype: int64\n",
      "360.0    526\n",
      "180.0     44\n",
      "480.0     15\n",
      "300.0     13\n",
      "84.0       4\n",
      "240.0      4\n",
      "120.0      3\n",
      "36.0       2\n",
      "60.0       2\n",
      "12.0       1\n",
      "Name: CPL_Term, dtype: int64\n"
     ]
    }
   ],
   "source": [
    "print(dataset['CPL_Term'].value_counts())\n",
    "median = dataset['CPL_Term'].median()\n",
    "dataset['CPL_Term'].fillna(median, inplace=True)\n",
    "print(dataset['CPL_Term'].value_counts())"
   ]
  },
  {
   "cell_type": "code",
   "execution_count": 83,
   "metadata": {},
   "outputs": [
    {
     "name": "stdout",
     "output_type": "stream",
     "text": [
      "1.0    475\n",
      "0.0     89\n",
      "Name: Credit_His, dtype: int64\n",
      "1.0    525\n",
      "0.0     89\n",
      "Name: Credit_His, dtype: int64\n"
     ]
    }
   ],
   "source": [
    "print(dataset['Credit_His'].value_counts())\n",
    "median = dataset['Credit_His'].median()\n",
    "dataset['Credit_His'].fillna(median, inplace=True)\n",
    "print(dataset['Credit_His'].value_counts())"
   ]
  },
  {
   "cell_type": "code",
   "execution_count": 84,
   "metadata": {},
   "outputs": [
    {
     "name": "stdout",
     "output_type": "stream",
     "text": [
      "Loanapp_ID        0\n",
      "Sex               0\n",
      "Marital_Status    0\n",
      "first_name        0\n",
      "last_name         0\n",
      "email             0\n",
      "address           0\n",
      "Dependents        0\n",
      "Qual_var          0\n",
      "SE                0\n",
      "App_Income_1      0\n",
      "App_Income_2      0\n",
      "CPL_Amount        0\n",
      "CPL_Term          0\n",
      "Credit_His        0\n",
      "Prop_Area         0\n",
      "INT_ID            0\n",
      "Prev_ID           0\n",
      "AGT_ID            0\n",
      "CPL_Status        0\n",
      "dtype: int64\n"
     ]
    }
   ],
   "source": [
    "print(dataset.isnull().sum())"
   ]
  },
  {
   "cell_type": "code",
   "execution_count": 85,
   "metadata": {},
   "outputs": [
    {
     "data": {
      "image/png": "[encoded data removed]",
      "text/plain": [
       "<Figure size 720x360 with 1 Axes>"
      ]
     },
     "metadata": {
      "needs_background": "light"
     },
     "output_type": "display_data"
    },
    {
     "data": {
      "image/png": "[encoded data removed]",
      "text/plain": [
       "<Figure size 432x288 with 1 Axes>"
      ]
     },
     "metadata": {
      "needs_background": "light"
     },
     "output_type": "display_data"
    },
    {
     "data": {
      "image/png": "[encoded data removed]",
      "text/plain": [
       "<Figure size 432x288 with 1 Axes>"
      ]
     },
     "metadata": {
      "needs_background": "light"
     },
     "output_type": "display_data"
    },
    {
     "data": {
      "image/png": "[encoded data removed]",
      "text/plain": [
       "<Figure size 432x288 with 1 Axes>"
      ]
     },
     "metadata": {
      "needs_background": "light"
     },
     "output_type": "display_data"
    },
    {
     "data": {
      "image/png": "[encoded data removed]",
      "text/plain": [
       "<Figure size 432x288 with 1 Axes>"
      ]
     },
     "metadata": {
      "needs_background": "light"
     },
     "output_type": "display_data"
    },
    {
     "data": {
      "image/png": "[encoded data removed]",
      "text/plain": [
       "<Figure size 432x288 with 1 Axes>"
      ]
     },
     "metadata": {
      "needs_background": "light"
     },
     "output_type": "display_data"
    }
   ],
   "source": [
    "dataset['Sex'].value_counts(normalize=True).plot.bar(figsize=(10,5), title='Sex')\n",
    "plt.show()\n",
    "dataset['Marital_Status'].value_counts(normalize=True).plot.bar(title='Marital_Status')\n",
    "plt.show()\n",
    "dataset['Dependents'].value_counts(normalize=True).plot.bar(title='Dependents')\n",
    "plt.show()\n",
    "dataset['Qual_var'].value_counts(normalize=True).plot.bar(title='Qual_var')\n",
    "plt.show()\n",
    "dataset['Prop_Area'].value_counts(normalize=True).plot.bar(title='Prop_Area')\n",
    "plt.show()\n",
    "dataset['SE'].value_counts(normalize=True).plot.bar(title='SE')\n",
    "plt.show()\n"
   ]
  },
  {
   "cell_type": "code",
   "execution_count": 86,
   "metadata": {},
   "outputs": [
    {
     "data": {
      "image/png": "[encoded data removed]",
      "text/plain": [
       "<Figure size 432x288 with 1 Axes>"
      ]
     },
     "metadata": {
      "needs_background": "light"
     },
     "output_type": "display_data"
    },
    {
     "data": {
      "image/png": "[encoded data removed]",
      "text/plain": [
       "<Figure size 720x360 with 1 Axes>"
      ]
     },
     "metadata": {
      "needs_background": "light"
     },
     "output_type": "display_data"
    }
   ],
   "source": [
    "sns.distplot(dataset['App_Income_1'])\n",
    "plt.show()\n",
    "dataset['App_Income_2'].plot.box(figsize=(10,5))\n",
    "plt.show()"
   ]
  },
  {
   "cell_type": "code",
   "execution_count": 87,
   "metadata": {},
   "outputs": [
    {
     "data": {
      "image/png": "[encoded data removed]",
      "text/plain": [
       "<Figure size 360x360 with 1 Axes>"
      ]
     },
     "metadata": {
      "needs_background": "light"
     },
     "output_type": "display_data"
    }
   ],
   "source": [
    "Sex=pd.crosstab(dataset['Sex'],dataset['CPL_Status'])\n",
    "Sex.div(Sex.sum(1).astype(float), axis=0).plot(kind=\"bar\",stacked=True,figsize=(5,5))\n",
    "plt.show()"
   ]
  },
  {
   "cell_type": "code",
   "execution_count": 88,
   "metadata": {},
   "outputs": [
    {
     "data": {
      "image/png": "[encoded data removed]",
      "text/plain": [
       "<Figure size 360x360 with 1 Axes>"
      ]
     },
     "metadata": {
      "needs_background": "light"
     },
     "output_type": "display_data"
    }
   ],
   "source": [
    "Marital_Status=pd.crosstab(dataset['Marital_Status'],dataset['CPL_Status'])\n",
    "Marital_Status.div(Marital_Status.sum(1).astype(float), axis=0).plot(kind=\"bar\",stacked=True,figsize=(5,5))\n",
    "plt.show()"
   ]
  },
  {
   "cell_type": "code",
   "execution_count": 89,
   "metadata": {},
   "outputs": [
    {
     "data": {
      "image/png": "[encoded data removed]",
      "text/plain": [
       "<Figure size 360x360 with 1 Axes>"
      ]
     },
     "metadata": {
      "needs_background": "light"
     },
     "output_type": "display_data"
    }
   ],
   "source": [
    "Dependents=pd.crosstab(dataset['Dependents'],dataset['CPL_Status'])\n",
    "Dependents.div(Dependents.sum(1).astype(float), axis=0).plot(kind=\"bar\",stacked=True,figsize=(5,5))\n",
    "plt.show()"
   ]
  },
  {
   "cell_type": "code",
   "execution_count": 1,
   "metadata": {},
   "outputs": [
    {
     "ename": "NameError",
     "evalue": "name 'pd' is not defined",
     "output_type": "error",
     "traceback": [
      "\u001b[1;31m---------------------------------------------------------------------------\u001b[0m",
      "\u001b[1;31mNameError\u001b[0m                                 Traceback (most recent call last)",
      "\u001b[1;32m<ipython-input-1-4937696c3c36>\u001b[0m in \u001b[0;36m<module>\u001b[1;34m\u001b[0m\n\u001b[1;32m----> 1\u001b[1;33m \u001b[0mQual_var\u001b[0m\u001b[1;33m=\u001b[0m\u001b[0mpd\u001b[0m\u001b[1;33m.\u001b[0m\u001b[0mcrosstab\u001b[0m\u001b[1;33m(\u001b[0m\u001b[0mdataset\u001b[0m\u001b[1;33m[\u001b[0m\u001b[1;34m'Qual_var'\u001b[0m\u001b[1;33m]\u001b[0m\u001b[1;33m,\u001b[0m\u001b[0mdataset\u001b[0m\u001b[1;33m[\u001b[0m\u001b[1;34m'CPL_Status'\u001b[0m\u001b[1;33m]\u001b[0m\u001b[1;33m)\u001b[0m\u001b[1;33m\u001b[0m\u001b[1;33m\u001b[0m\u001b[0m\n\u001b[0m\u001b[0;32m      2\u001b[0m \u001b[0mQual_var\u001b[0m\u001b[1;33m.\u001b[0m\u001b[0mdiv\u001b[0m\u001b[1;33m(\u001b[0m\u001b[0mQual_var\u001b[0m\u001b[1;33m.\u001b[0m\u001b[0msum\u001b[0m\u001b[1;33m(\u001b[0m\u001b[1;36m1\u001b[0m\u001b[1;33m)\u001b[0m\u001b[1;33m.\u001b[0m\u001b[0mastype\u001b[0m\u001b[1;33m(\u001b[0m\u001b[0mfloat\u001b[0m\u001b[1;33m)\u001b[0m\u001b[1;33m,\u001b[0m \u001b[0maxis\u001b[0m\u001b[1;33m=\u001b[0m\u001b[1;36m0\u001b[0m\u001b[1;33m)\u001b[0m\u001b[1;33m.\u001b[0m\u001b[0mplot\u001b[0m\u001b[1;33m(\u001b[0m\u001b[0mkind\u001b[0m\u001b[1;33m=\u001b[0m\u001b[1;34m\"bar\"\u001b[0m\u001b[1;33m,\u001b[0m\u001b[0mstacked\u001b[0m\u001b[1;33m=\u001b[0m\u001b[1;32mTrue\u001b[0m\u001b[1;33m,\u001b[0m\u001b[0mfigsize\u001b[0m\u001b[1;33m=\u001b[0m\u001b[1;33m(\u001b[0m\u001b[1;36m5\u001b[0m\u001b[1;33m,\u001b[0m\u001b[1;36m5\u001b[0m\u001b[1;33m)\u001b[0m\u001b[1;33m)\u001b[0m\u001b[1;33m\u001b[0m\u001b[1;33m\u001b[0m\u001b[0m\n\u001b[0;32m      3\u001b[0m \u001b[0mplt\u001b[0m\u001b[1;33m.\u001b[0m\u001b[0mshow\u001b[0m\u001b[1;33m(\u001b[0m\u001b[1;33m)\u001b[0m\u001b[1;33m\u001b[0m\u001b[1;33m\u001b[0m\u001b[0m\n",
      "\u001b[1;31mNameError\u001b[0m: name 'pd' is not defined"
     ]
    }
   ],
   "source": [
    "Qual_var=pd.crosstab(dataset['Qual_var'],dataset['CPL_Status'])\n",
    "Qual_var.div(Qual_var.sum(1).astype(float), axis=0).plot(kind=\"bar\",stacked=True,figsize=(5,5))\n",
    "plt.show()"
   ]
  },
  {
   "cell_type": "code",
   "execution_count": 91,
   "metadata": {},
   "outputs": [
    {
     "data": {
      "image/png": "[encoded data removed]",
      "text/plain": [
       "<Figure size 360x360 with 1 Axes>"
      ]
     },
     "metadata": {
      "needs_background": "light"
     },
     "output_type": "display_data"
    }
   ],
   "source": [
    "Prop_Area=pd.crosstab(dataset['Prop_Area'],dataset['CPL_Status'])\n",
    "Prop_Area.div(Prop_Area.sum(1).astype(float), axis=0).plot(kind=\"bar\",stacked=True,figsize=(5,5))\n",
    "plt.show()"
   ]
  },
  {
   "cell_type": "code",
   "execution_count": 92,
   "metadata": {},
   "outputs": [
    {
     "data": {
      "image/png": "[encoded data removed]",
      "text/plain": [
       "<Figure size 360x360 with 1 Axes>"
      ]
     },
     "metadata": {
      "needs_background": "light"
     },
     "output_type": "display_data"
    }
   ],
   "source": [
    "SE=pd.crosstab(dataset['SE'],dataset['CPL_Status'])\n",
    "SE.div(SE.sum(1).astype(float), axis=0).plot(kind=\"bar\",stacked=True,figsize=(5,5))\n",
    "plt.show()"
   ]
  },
  {
   "cell_type": "code",
   "execution_count": 93,
   "metadata": {},
   "outputs": [
    {
     "data": {
      "text/plain": [
       "<matplotlib.axes._subplots.AxesSubplot at 0x156a6bd7580>"
      ]
     },
     "execution_count": 93,
     "metadata": {},
     "output_type": "execute_result"
    },
    {
     "data": {
      "image/png": "[encoded data removed]",
      "text/plain": [
       "<Figure size 648x432 with 2 Axes>"
      ]
     },
     "metadata": {
      "needs_background": "light"
     },
     "output_type": "display_data"
    }
   ],
   "source": [
    "matrix = dataset.corr()\n",
    "f, ax = plt.subplots(figsize=(9,6))\n",
    "sns.heatmap(matrix,vmax=.8,square=True,cmap=\"terrain\", annot = True)"
   ]
  },
  {
   "cell_type": "code",
   "execution_count": 117,
   "metadata": {},
   "outputs": [],
   "source": [
    "y=dataset[['CPL_Status']]\n",
    "X=dataset.drop(['Loanapp_ID','first_name','last_name','address'],axis=1)\n",
    "X = pd.get_dummies(X)\n",
    "X_train,X_test,y_train,y_test=train_test_split(X,y.values.ravel(),test_size=0.25)"
   ]
  },
  {
   "cell_type": "code",
   "execution_count": 118,
   "metadata": {},
   "outputs": [
    {
     "data": {
      "text/plain": [
       "0.6688311688311688"
      ]
     },
     "execution_count": 118,
     "metadata": {},
     "output_type": "execute_result"
    }
   ],
   "source": [
    "model = LogisticRegression()\n",
    "model.fit(X_train, y_train)\n",
    "LogisticRegression()\n",
    "pred_cv = model.predict(X_test)\n",
    "accuracy_score(y_test,pred_cv)"
   ]
  },
  {
   "cell_type": "code",
   "execution_count": 119,
   "metadata": {},
   "outputs": [],
   "source": [
    "from sklearn.model_selection import StratifiedKFold"
   ]
  },
  {
   "cell_type": "code",
   "execution_count": 120,
   "metadata": {},
   "outputs": [
    {
     "name": "stdout",
     "output_type": "stream",
     "text": [
      "\n",
      "1 of kfold 5 \n",
      "accuracy_score 0.6910569105691057\n",
      "\n",
      "2 of kfold 5 \n",
      "accuracy_score 0.6910569105691057\n",
      "\n",
      "3 of kfold 5 \n",
      "accuracy_score 0.6829268292682927\n",
      "\n",
      "4 of kfold 5 \n",
      "accuracy_score 0.6829268292682927\n",
      "\n",
      "5 of kfold 5 \n",
      "accuracy_score 0.6885245901639344\n",
      "\n",
      " Mean Validation Accuracy 0.6872984139677463\n"
     ]
    }
   ],
   "source": [
    "i=1\n",
    "mean = 0\n",
    "y=y.values.ravel()\n",
    "kf = StratifiedKFold(n_splits=5,random_state=1)\n",
    "for train_index,test_index in kf.split(X,y):\n",
    " print ('\\n{} of kfold {} '.format(i,kf.n_splits))\n",
    " xtr,xvl = X.loc[train_index],X.loc[test_index]\n",
    " ytr,yvl = y[train_index],y[test_index]\n",
    " model = LogisticRegression(random_state=1)\n",
    " model.fit(xtr,ytr)\n",
    " pred_test=model.predict(xvl)\n",
    " score=accuracy_score(yvl,pred_test)\n",
    " mean += score\n",
    " print ('accuracy_score',score)\n",
    " i+=1\n",
    " pred_test = model.predict(X_test)\n",
    " pred = model.predict_proba(xvl)[:,1]\n",
    "print ('\\n Mean Validation Accuracy',mean/(i-1))\n",
    "\n"
   ]
  },
  {
   "cell_type": "code",
   "execution_count": 98,
   "metadata": {},
   "outputs": [
    {
     "name": "stdout",
     "output_type": "stream",
     "text": [
      "\n",
      "1 of kfold 5 \n",
      "accuracy_score 1.0\n",
      "\n",
      "2 of kfold 5 \n",
      "accuracy_score 1.0\n",
      "\n",
      "3 of kfold 5 \n",
      "accuracy_score 1.0\n",
      "\n",
      "4 of kfold 5 \n",
      "accuracy_score 1.0\n",
      "\n",
      "5 of kfold 5 \n",
      "accuracy_score 1.0\n",
      "\n",
      " Mean Validation Accuracy 1.0\n"
     ]
    }
   ],
   "source": [
    "from sklearn import tree\n",
    "i=1\n",
    "mean = 0\n",
    "kf = StratifiedKFold(n_splits=5,random_state=1,shuffle=True)\n",
    "for train_index,test_index in kf.split(X,y):\n",
    "    print ('\\n{} of kfold {} '.format(i,kf.n_splits))\n",
    "    xtr,xvl = X.loc[train_index],X.loc[test_index]\n",
    "    ytr,yvl = y[train_index],y[test_index]\n",
    "    model = tree.DecisionTreeClassifier(random_state=1)\n",
    "    model.fit(xtr,ytr)\n",
    "    pred_test=model.predict(xvl)\n",
    "    score=accuracy_score(yvl,pred_test)\n",
    "    mean += score\n",
    "    print ('accuracy_score',score)\n",
    "    i+=1\n",
    "    pred_test = model.predict(X_test)\n",
    "    pred = model.predict_proba(xvl)[:,1]\n",
    "print ('\\n Mean Validation Accuracy',mean/(i-1))"
   ]
  },
  {
   "cell_type": "code",
   "execution_count": 99,
   "metadata": {},
   "outputs": [
    {
     "name": "stdout",
     "output_type": "stream",
     "text": [
      "\n",
      "1 of kfold 5 \n",
      "accuracy_score 1.0\n",
      "\n",
      "2 of kfold 5 \n",
      "accuracy_score 1.0\n",
      "\n",
      "3 of kfold 5 \n",
      "accuracy_score 1.0\n",
      "\n",
      "4 of kfold 5 \n",
      "accuracy_score 1.0\n",
      "\n",
      "5 of kfold 5 \n",
      "accuracy_score 1.0\n",
      "\n",
      " Mean Validation Accuracy 1.0\n"
     ]
    }
   ],
   "source": [
    "from sklearn.ensemble import RandomForestClassifier\n",
    "i=1\n",
    "mean = 0\n",
    "kf = StratifiedKFold(n_splits=5,random_state=1,shuffle=True)\n",
    "for train_index,test_index in kf.split(X,y):\n",
    " print ('\\n{} of kfold {} '.format(i,kf.n_splits))\n",
    " xtr,xvl = X.loc[train_index],X.loc[test_index]\n",
    " ytr,yvl = y[train_index],y[test_index]\n",
    " model = RandomForestClassifier(random_state=1, max_depth=10)\n",
    " model.fit(xtr,ytr)\n",
    " pred_test=model.predict(xvl)\n",
    " score=accuracy_score(yvl,pred_test)\n",
    " mean += score\n",
    " print ('accuracy_score',score)\n",
    " i+=1\n",
    " pred_test = model.predict(X_test)\n",
    " pred = model.predict_proba(xvl)[:,1]\n",
    "print ('\\n Mean Validation Accuracy',mean/(i-1))"
   ]
  },
  {
   "cell_type": "code",
   "execution_count": 100,
   "metadata": {},
   "outputs": [
    {
     "name": "stdout",
     "output_type": "stream",
     "text": [
      "\n",
      "1 of kfold 5\n",
      "[12:47:19] WARNING: ..\\src\\learner.cc:1061: Starting in XGBoost 1.3.0, the default evaluation metric used with the objective 'binary:logistic' was changed from 'error' to 'logloss'. Explicitly set eval_metric if you'd like to restore the old behavior.\n",
      "accuracy_score 1.0\n",
      "\n",
      "2 of kfold 5\n",
      "[12:47:21] WARNING: ..\\src\\learner.cc:1061: Starting in XGBoost 1.3.0, the default evaluation metric used with the objective 'binary:logistic' was changed from 'error' to 'logloss'. Explicitly set eval_metric if you'd like to restore the old behavior.\n",
      "accuracy_score 1.0\n",
      "\n",
      "3 of kfold 5\n",
      "[12:47:22] WARNING: ..\\src\\learner.cc:1061: Starting in XGBoost 1.3.0, the default evaluation metric used with the objective 'binary:logistic' was changed from 'error' to 'logloss'. Explicitly set eval_metric if you'd like to restore the old behavior.\n",
      "accuracy_score 1.0\n",
      "\n",
      "4 of kfold 5\n",
      "[12:47:23] WARNING: ..\\src\\learner.cc:1061: Starting in XGBoost 1.3.0, the default evaluation metric used with the objective 'binary:logistic' was changed from 'error' to 'logloss'. Explicitly set eval_metric if you'd like to restore the old behavior.\n",
      "accuracy_score 1.0\n",
      "\n",
      "5 of kfold 5\n",
      "[12:47:24] WARNING: ..\\src\\learner.cc:1061: Starting in XGBoost 1.3.0, the default evaluation metric used with the objective 'binary:logistic' was changed from 'error' to 'logloss'. Explicitly set eval_metric if you'd like to restore the old behavior.\n",
      "accuracy_score 1.0\n",
      "\n",
      " Mean Validation Accuracy 1.0\n"
     ]
    }
   ],
   "source": [
    "from xgboost import XGBClassifier\n",
    "i=1 \n",
    "mean = 0\n",
    "kf = StratifiedKFold(n_splits=5,random_state=1,shuffle=True) \n",
    "for train_index,test_index in kf.split(X,y): \n",
    " print('\\n{} of kfold {}'.format(i,kf.n_splits)) \n",
    " xtr,xvl = X.loc[train_index],X.loc[test_index] \n",
    " ytr,yvl = y[train_index],y[test_index] \n",
    " model = XGBClassifier(n_estimators=50, max_depth=4) \n",
    " model.fit(xtr, ytr) \n",
    " pred_test = model.predict(xvl) \n",
    " score = accuracy_score(yvl,pred_test) \n",
    " mean += score\n",
    " print ('accuracy_score',score)\n",
    " i+=1\n",
    " pred_test = model.predict(X_test)\n",
    " pred = model.predict_proba(xvl)[:,1]\n",
    "print ('\\n Mean Validation Accuracy',mean/(i-1))"
   ]
  },
  {
   "cell_type": "code",
   "execution_count": 101,
   "metadata": {},
   "outputs": [
    {
     "name": "stdout",
     "output_type": "stream",
     "text": [
      "0.7142857142857143\n"
     ]
    }
   ],
   "source": [
    "from sklearn.neighbors import KNeighborsClassifier\n",
    "knn = KNeighborsClassifier(n_neighbors=31)\n",
    "knn.fit(X_train,y_train)\n",
    "pred = knn.predict(X_test)\n",
    "from sklearn.metrics import classification_report,confusion_matrix\n",
    "# print(confusion_matrix(y_test,pred))\n",
    "# print(classification_report(y_test,pred))\n",
    "print(accuracy_score(y_test,pred))"
   ]
  },
  {
   "cell_type": "code",
   "execution_count": 102,
   "metadata": {},
   "outputs": [
    {
     "name": "stdout",
     "output_type": "stream",
     "text": [
      "\n",
      "\n",
      "SVM - Stratified k-folds cross Validation\n",
      "\n",
      "Iteration 1 of kfold 5\n",
      "accuracy_score 0.6910569105691057\n",
      "\n",
      "Iteration 2 of kfold 5\n",
      "accuracy_score 0.6910569105691057\n",
      "\n",
      "Iteration 3 of kfold 5\n",
      "accuracy_score 0.6829268292682927\n",
      "\n",
      "Iteration 4 of kfold 5\n",
      "accuracy_score 0.6829268292682927\n",
      "\n",
      "Iteration 5 of kfold 5\n",
      "accuracy_score 0.6885245901639344\n",
      "\n",
      "Mean validation accuracy for SVM - Stratified k-folds cross Validation\n",
      "SVM   0.6872984139677463\n"
     ]
    }
   ],
   "source": [
    "from sklearn import svm\n",
    "from sklearn.svm import SVC\n",
    "model = SVC(kernel='rbf')#rbf or linear\n",
    "model.fit(X_train, y_train)\n",
    "pred_cv = model.predict(X_test)\n",
    "print(\"\\n\\nSVM - Stratified k-folds cross Validation\")\n",
    "tot_acc = 0\n",
    "i=1\n",
    "kf = StratifiedKFold(n_splits=5,random_state=1,shuffle=True) \n",
    "for train_indices,test_indices in kf.split(X,y):\n",
    "    print('\\nIteration {} of kfold {}'.format(i,kf.n_splits))\n",
    "    xtr,xvl = X.loc[train_indices],X.loc[test_indices]     \n",
    "    ytr,yvl = y[train_indices],y[test_indices]         \n",
    "    model = SVC(random_state=1)\n",
    "    model.fit(xtr, ytr)\n",
    "    pred_test = model.predict(xvl)\n",
    "    score = accuracy_score(yvl,pred_test)\n",
    "    print('accuracy_score',score)     \n",
    "    i+=1\n",
    "    tot_acc = tot_acc + score\n",
    "SVM_mean_acc = tot_acc/5\n",
    "print(\"\\nMean validation accuracy for SVM - Stratified k-folds cross Validation\")\n",
    "print(\"SVM   \" +str(SVM_mean_acc))"
   ]
  },
  {
   "cell_type": "code",
   "execution_count": 146,
   "metadata": {},
   "outputs": [
    {
     "data": {
      "image/png": "[encoded data removed]",
      "text/plain": [
       "<Figure size 720x360 with 1 Axes>"
      ]
     },
     "metadata": {
      "needs_background": "light"
     },
     "output_type": "display_data"
    }
   ],
   "source": [
    "import matplotlib.pyplot as plt\n",
    "\n",
    "data = {'LogReg': 71.42, 'LogReg\\nusing K-fold': 68.72,'Decision Tree':100, 'RandomForest':100, 'XGBClassifier':100, 'KNeighbors':69.48, 'SVM':68.72}\n",
    "names = list(data.keys())\n",
    "values = list(data.values())\n",
    "fig=plt.figure(figsize=(10,5))\n",
    "plt.bar(names,values,color='Chartreuse',width=0.5)\n",
    "#plt.bar(range(len(data)), values, tick_label=names)\n",
    "plt.xlabel('\\nAlgorithms')\n",
    "plt.ylabel('Accuracy')\n",
    "plt.show()"
   ]
  },
  {
   "cell_type": "code",
   "execution_count": null,
   "metadata": {},
   "outputs": [],
   "source": []
  }
 ],
 "metadata": {
  "kernelspec": {
   "display_name": "Python 3",
   "language": "python",
   "name": "python3"
  },
  "language_info": {
   "codemirror_mode": {
    "name": "ipython",
    "version": 3
   },
   "file_extension": ".py",
   "mimetype": "text/x-python",
   "name": "python",
   "nbconvert_exporter": "python",
   "pygments_lexer": "ipython3",
   "version": "3.8.3"
  }
 },
 "nbformat": 4,
 "nbformat_minor": 4
}
